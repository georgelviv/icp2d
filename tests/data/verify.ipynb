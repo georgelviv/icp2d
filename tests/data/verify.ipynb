{
 "cells": [
  {
   "cell_type": "code",
   "execution_count": 12,
   "metadata": {},
   "outputs": [],
   "source": [
    "import numpy as np\n",
    "from sklearn.neighbors import NearestNeighbors\n",
    "\n",
    "base_points_path = './base-points.csv'\n",
    "transformed_points_path = './transformed-points.csv'\n",
    "\n",
    "base_points = np.loadtxt(base_points_path, delimiter=',', skiprows=1)\n",
    "transformed_points = np.loadtxt(transformed_points_path, delimiter=',', skiprows=1)"
   ]
  },
  {
   "cell_type": "code",
   "execution_count": 15,
   "metadata": {},
   "outputs": [],
   "source": [
    "neighbors = NearestNeighbors(n_neighbors=1, algorithm='auto')\n",
    "neighbors.fit(base_points)\n",
    "\n",
    "distances, indices = neighbors.kneighbors(transformed_points)"
   ]
  },
  {
   "cell_type": "code",
   "execution_count": null,
   "metadata": {},
   "outputs": [
    {
     "name": "stdout",
     "output_type": "stream",
     "text": [
      "[[ 0.99998827  0.00484389]\n",
      " [-0.00484389  0.99998827]]\n",
      "translation [-0.05104194 -0.01271559]\n",
      "angle_deg -0.2775352983411378\n"
     ]
    }
   ],
   "source": [
    "import numpy as np\n",
    "from sklearn.neighbors import NearestNeighbors\n",
    "\n",
    "def icp_2d(source, target, max_iterations=100, tolerance=1e-6):\n",
    "    \"\"\"\n",
    "    Perform the ICP algorithm (Iterative Closest Point) for 2D point clouds.\n",
    "\n",
    "    Args:\n",
    "        source (np.array): Source point cloud (Nx2)\n",
    "        target (np.array): Target point cloud (Nx2)\n",
    "        max_iterations (int): Maximum number of iterations\n",
    "        tolerance (float): Convergence tolerance\n",
    "\n",
    "    Returns:\n",
    "        np.array: Final transformation matrix (3x3)\n",
    "    \"\"\"\n",
    "    def closest_point(source_points, target_points):\n",
    "        # Find nearest neighbors in the target point cloud for each source point\n",
    "        nn = NearestNeighbors(n_neighbors=1)\n",
    "        nn.fit(target_points)\n",
    "        distances, indices = nn.kneighbors(source_points)\n",
    "        return target_points[indices.flatten()], distances.flatten()\n",
    "\n",
    "    # Initial transformation matrix (identity matrix for 2D)\n",
    "    transformation = np.eye(3)\n",
    "\n",
    "    # Add a column of ones to source and target points to handle translation\n",
    "    source_homogeneous = np.hstack([source, np.ones((source.shape[0], 1))])\n",
    "    target_homogeneous = np.hstack([target, np.ones((target.shape[0], 1))])\n",
    "\n",
    "    prev_error = float('inf')\n",
    "\n",
    "    for i in range(max_iterations):\n",
    "        # Find the closest points in the target for the source points\n",
    "        closest_points, distances = closest_point(source, target)\n",
    "\n",
    "        # Compute centroids of both sets\n",
    "        centroid_source = np.mean(source, axis=0)\n",
    "        centroid_target = np.mean(closest_points, axis=0)\n",
    "\n",
    "        # Center the points\n",
    "        source_centered = source - centroid_source\n",
    "        closest_centered = closest_points - centroid_target\n",
    "\n",
    "        # Compute the covariance matrix\n",
    "        H = np.dot(source_centered.T, closest_centered)\n",
    "\n",
    "        # Singular Value Decomposition (SVD)\n",
    "        U, S, Vt = np.linalg.svd(H)\n",
    "        R = np.dot(U, Vt)  # Rotation matrix\n",
    "        t = centroid_target - np.dot(R, centroid_source)  # Translation vector\n",
    "\n",
    "        # Apply the transformation to the source points\n",
    "        source = np.dot(source, R.T) + t\n",
    "\n",
    "        # Compute the current error (sum of squared distances)\n",
    "        mean_error = np.sum(distances) / source.shape[0]\n",
    "\n",
    "        # Check for convergence\n",
    "        if np.abs(prev_error - mean_error) < tolerance:\n",
    "            print(f\"Converged at iteration {i}\")\n",
    "            break\n",
    "        prev_error = mean_error\n",
    "\n",
    "    angle_rad = np.arctan2(R[1, 0], R[0, 0])\n",
    "    angle_deg = np.degrees(angle_rad)\n",
    "\n",
    "    print(R)\n",
    "\n",
    "    return t, angle_deg\n",
    "\n",
    "t, angle_deg = icp_2d(base_points, transformed_points)\n",
    "print('translation', t)\n",
    "print('angle_deg', angle_deg)\n",
    "\n"
   ]
  }
 ],
 "metadata": {
  "kernelspec": {
   "display_name": ".venv",
   "language": "python",
   "name": "python3"
  },
  "language_info": {
   "codemirror_mode": {
    "name": "ipython",
    "version": 3
   },
   "file_extension": ".py",
   "mimetype": "text/x-python",
   "name": "python",
   "nbconvert_exporter": "python",
   "pygments_lexer": "ipython3",
   "version": "3.12.3"
  }
 },
 "nbformat": 4,
 "nbformat_minor": 2
}
